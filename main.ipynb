{
 "cells": [
  {
   "cell_type": "code",
   "execution_count": 1,
   "metadata": {},
   "outputs": [],
   "source": [
    "import numpy as np\n",
    "import torch\n",
    "import torch.nn as nn\n",
    "import torch.nn.functional as F\n",
    "from tqdm import tqdm\n",
    "import matplotlib.pyplot as plt\n",
    "\n",
    "from src.models import ResNet50\n",
    "from src.utils.common import UnCallBack\n",
    "from src.utils.evaluate import makeEval\n",
    "%matplotlib inline"
   ]
  },
  {
   "cell_type": "code",
   "execution_count": 2,
   "metadata": {},
   "outputs": [],
   "source": [
    "def commonTrainingProperties(test_loader):\n",
    "    device = torch.device('cuda' if torch.cuda.is_available() else 'cpu')\n",
    "\n",
    "    model = ResNet50()\n",
    "    loss_fn = nn.CrossEntropyLoss(reduction='none')\n",
    "    optimizer = torch.optim.Adam(model.parameters(), lr = 1e-3 )\n",
    "\n",
    "    eval_callback = makeEval(test_loader, loss_fn, device)\n",
    "\n",
    "    return {\"model\":model, \"optimizer\":optimizer, \"loss_fn\":loss_fn, \"eval\":eval_callback, \"device\":device}\n"
   ]
  },
  {
   "cell_type": "code",
   "execution_count": 3,
   "metadata": {},
   "outputs": [],
   "source": [
    "%load_ext autoreload\n",
    "%aimport src.utils.common\n",
    "%aimport src.utils.evaluate\n",
    "%aimport src.train_schaul\n",
    "%autoreload 1"
   ]
  },
  {
   "cell_type": "code",
   "execution_count": null,
   "metadata": {},
   "outputs": [],
   "source": [
    "from src.utils.data_loaders import train_val_dataloader, test_dataloader, train_dataloader\n",
    "\n",
    "train_loader = train_dataloader(batch_size=300)\n",
    "test_loader = test_dataloader(batch_size=120)"
   ]
  },
  {
   "cell_type": "code",
   "execution_count": null,
   "metadata": {},
   "outputs": [],
   "source": [
    "from src.train_importance_sampling import  train_full_upper_bound\n",
    "\n",
    "def upperBoundBndLoss(use_loss_estimation = False):\n",
    "    device = torch.device('cuda' if torch.cuda.is_available() else 'cpu')\n",
    "\n",
    "    if torch.cuda.is_available():\n",
    "        torch.cuda.empty_cache()\n",
    "\n",
    "    model = ResNet50()\n",
    "    model.to(device)\n",
    "\n",
    "    loss_fn = nn.CrossEntropyLoss(reduction='none')\n",
    "    optimizer = torch.optim.Adam(model.parameters(), lr = 1e-3 )\n",
    "\n",
    "    callback = UnCallBack( info_list = ['train_loss', 'train_acc', 'train_w_loss', 'val_loss', 'val_acc', 'train_uniform_cnt'])\n",
    "\n",
    "    eval_callback = makeEval(test_loader, loss_fn, device)\n",
    "\n",
    "    train_full_upper_bound( model, \n",
    "                train_loader, \n",
    "                loss_fn, \n",
    "                optimizer, \n",
    "                n_epochs = 3, \n",
    "                eval = eval_callback, \n",
    "                callback = callback, \n",
    "                presample = 3, \n",
    "                tau_th = None,\n",
    "                use_loss_estimation = use_loss_estimation,\n",
    "                second_approach = True,\n",
    "                device= device)\n",
    "\n",
    "\n",
    "    return callback\n",
    "\n",
    "callback_upper_bound = upperBoundBndLoss( use_loss_estimation = False)\n",
    "\n",
    "callback_loss = upperBoundBndLoss( use_loss_estimation = True)\n"
   ]
  },
  {
   "cell_type": "markdown",
   "metadata": {},
   "source": [
    "# Schaul training "
   ]
  },
  {
   "cell_type": "code",
   "execution_count": 4,
   "metadata": {},
   "outputs": [
    {
     "name": "stdout",
     "output_type": "stream",
     "text": [
      "Files already downloaded and verified\n",
      "Files already downloaded and verified\n"
     ]
    }
   ],
   "source": [
    "from src.utils.data_loaders import test_dataloader, train_dataloader\n",
    "#train_loader, val_loader = train_val_dataloader(batch_size=200)#128*3\n",
    "\n",
    "train_loader = train_dataloader(batch_size=80)\n",
    "test_loader = test_dataloader(batch_size=80)"
   ]
  },
  {
   "cell_type": "code",
   "execution_count": 5,
   "metadata": {},
   "outputs": [
    {
     "name": "stdout",
     "output_type": "stream",
     "text": [
      "Files already downloaded and verified\n",
      "Files already downloaded and verified\n"
     ]
    }
   ],
   "source": [
    "from src.utils.data_loaders import train_val_dataloader, test_dataloader\n",
    "\n",
    "train_loader, test_loader = train_val_dataloader(batch_size=120)#128*3\n"
   ]
  },
  {
   "cell_type": "code",
   "execution_count": null,
   "metadata": {},
   "outputs": [],
   "source": [
    "%autoreload 1\n",
    "\n",
    "from src.train_schaul import train_full_schaul\n",
    "if torch.cuda.is_available():\n",
    "    torch.cuda.empty_cache()\n",
    "\n",
    "device = torch.device('cuda' if torch.cuda.is_available() else 'cpu')\n",
    "model = ResNet50()\n",
    "model.to(device)\n",
    "\n",
    "loss_fn = nn.CrossEntropyLoss(reduction='none')\n",
    "optimizer = torch.optim.Adam(model.parameters(), lr = 1e-3 )\n",
    "\n",
    "callback = UnCallBack( info_list = ['train_loss', 'train_acc', 'val_loss', 'val_acc'])\n",
    "\n",
    "\n",
    "eval_callback = makeEval(test_loader, loss_fn, device)\n",
    "\n",
    "train_full_schaul(model, \n",
    "                  train_loader, \n",
    "                  loss_fn, \n",
    "                  optimizer, \n",
    "                  n_epochs = 50, \n",
    "                  eval = eval_callback, \n",
    "                  callback = callback, \n",
    "                  device = device)\n",
    "\n",
    "callback.save(\"schaul\")"
   ]
  },
  {
   "cell_type": "markdown",
   "metadata": {},
   "source": [
    "# Loshchilov training "
   ]
  },
  {
   "cell_type": "code",
   "execution_count": 1,
   "metadata": {},
   "outputs": [
    {
     "name": "stdout",
     "output_type": "stream",
     "text": [
      "Files already downloaded and verified\n",
      "Files already downloaded and verified\n"
     ]
    }
   ],
   "source": [
    "from src.utils.data_loaders import test_dataloader, train_dataloader\n",
    "\n",
    "train_loader = train_dataloader(batch_size=64)\n",
    "test_loader = test_dataloader(batch_size=64)"
   ]
  },
  {
   "cell_type": "code",
   "execution_count": null,
   "metadata": {},
   "outputs": [],
   "source": [
    "from src.train_loshchilov import train_full_loshchilov\n",
    "\n",
    "device = torch.device('cuda' if torch.cuda.is_available() else 'cpu')\n",
    "print(device)\n",
    "model = ResNet50()\n",
    "model.to(device)\n",
    "model.device = device\n",
    "\n",
    "loss_fn = nn.CrossEntropyLoss(reduction='none')\n",
    "optimizer = torch.optim.Adam(model.parameters(), lr = 1e-3 )\n",
    "\n",
    "callback = UnCallBack( info_list = ['train_loss', 'train_acc', 'val_loss', 'val_acc'])\n",
    "\n",
    "eval_callback = makeEval(train_loader, loss_fn, device)\n",
    "\n",
    "train_full_loshchilov(model, \n",
    "                      train_loader, \n",
    "                      loss_fn, \n",
    "                      optimizer, \n",
    "                      n_epochs=40, \n",
    "                      eval = eval_callback, \n",
    "                      callback=callback, \n",
    "                      device = device)\n",
    "\n",
    "callback.save(\"loshchilov\")"
   ]
  }
 ],
 "metadata": {
  "kernelspec": {
   "display_name": "Python 3",
   "language": "python",
   "name": "python3"
  },
  "language_info": {
   "codemirror_mode": {
    "name": "ipython",
    "version": 3
   },
   "file_extension": ".py",
   "mimetype": "text/x-python",
   "name": "python",
   "nbconvert_exporter": "python",
   "pygments_lexer": "ipython3",
   "version": "3.11.5"
  }
 },
 "nbformat": 4,
 "nbformat_minor": 2
}
