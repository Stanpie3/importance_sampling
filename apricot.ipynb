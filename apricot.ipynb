{
 "cells": [
  {
   "cell_type": "code",
   "execution_count": 23,
   "metadata": {},
   "outputs": [],
   "source": [
    "import torch\n",
    "import torch.nn as nn\n",
    "import torch.nn.functional as F\n",
    "\n",
    "import math\n",
    "\n",
    "\n",
    "#######\n",
    "class BasicBlock(nn.Module):\n",
    "    expansion = 1\n",
    "\n",
    "    def __init__(self, in_planes, planes, stride=1):\n",
    "        super(BasicBlock, self).__init__()\n",
    "        self.conv1 = nn.Conv2d(\n",
    "            in_planes, planes, kernel_size=3, stride=stride, padding=1, bias=False\n",
    "        )\n",
    "        self.bn1 = nn.BatchNorm2d(planes)\n",
    "        self.conv2 = nn.Conv2d(\n",
    "            planes, planes, kernel_size=3, stride=1, padding=1, bias=False\n",
    "        )\n",
    "        self.bn2 = nn.BatchNorm2d(planes)\n",
    "\n",
    "        self.shortcut = nn.Sequential()\n",
    "        if stride != 1 or in_planes != self.expansion * planes:\n",
    "            self.shortcut = nn.Sequential(\n",
    "                nn.Conv2d(\n",
    "                    in_planes,\n",
    "                    self.expansion * planes,\n",
    "                    kernel_size=1,\n",
    "                    stride=stride,\n",
    "                    bias=False,\n",
    "                ),\n",
    "                nn.BatchNorm2d(self.expansion * planes),\n",
    "            )\n",
    "\n",
    "    def forward(self, x):\n",
    "        out = F.relu(self.bn1(self.conv1(x)))\n",
    "        out = self.bn2(self.conv2(out))\n",
    "        out += self.shortcut(x)\n",
    "        out = F.relu(out)\n",
    "        return out\n",
    "\n",
    "\n",
    "class Bottleneck(nn.Module):\n",
    "    expansion = 4\n",
    "\n",
    "    def __init__(self, in_planes, planes, stride=1):\n",
    "        super(Bottleneck, self).__init__()\n",
    "        self.conv1 = nn.Conv2d(in_planes, planes, kernel_size=1, bias=False)\n",
    "        self.bn1 = nn.BatchNorm2d(planes)\n",
    "        self.conv2 = nn.Conv2d(\n",
    "            planes, planes, kernel_size=3, stride=stride, padding=1, bias=False\n",
    "        )\n",
    "        self.bn2 = nn.BatchNorm2d(planes)\n",
    "        self.conv3 = nn.Conv2d(\n",
    "            planes, self.expansion * planes, kernel_size=1, bias=False\n",
    "        )\n",
    "        self.bn3 = nn.BatchNorm2d(self.expansion * planes)\n",
    "\n",
    "        self.shortcut = nn.Sequential()\n",
    "        if stride != 1 or in_planes != self.expansion * planes:\n",
    "            self.shortcut = nn.Sequential(\n",
    "                nn.Conv2d(\n",
    "                    in_planes,\n",
    "                    self.expansion * planes,\n",
    "                    kernel_size=1,\n",
    "                    stride=stride,\n",
    "                    bias=False,\n",
    "                ),\n",
    "                nn.BatchNorm2d(self.expansion * planes),\n",
    "            )\n",
    "\n",
    "    def forward(self, x):\n",
    "        out = F.relu(self.bn1(self.conv1(x)))\n",
    "        out = F.relu(self.bn2(self.conv2(out)))\n",
    "        out = self.bn3(self.conv3(out))\n",
    "        out += self.shortcut(x)\n",
    "        out = F.relu(out)\n",
    "        return out\n",
    "\n",
    "\n",
    "class ResNet(nn.Module):\n",
    "    def __init__(self, block, num_blocks, num_classes=10):\n",
    "        super(ResNet, self).__init__()\n",
    "        self.in_planes = 64\n",
    "\n",
    "        self.conv1 = nn.Conv2d(3, 64, kernel_size=3, stride=1, padding=1, bias=False)\n",
    "        self.bn1 = nn.BatchNorm2d(64)\n",
    "        self.layer1 = self._make_layer(block, 64, num_blocks[0], stride=1)\n",
    "        self.layer2 = self._make_layer(block, 128, num_blocks[1], stride=2)\n",
    "        self.layer3 = self._make_layer(block, 256, num_blocks[2], stride=2)\n",
    "        self.layer4 = self._make_layer(block, 512, num_blocks[3], stride=2)\n",
    "        self.linear = nn.Linear(512 * block.expansion, num_classes)\n",
    "\n",
    "        for m in self.modules():\n",
    "            if isinstance(m, nn.Conv2d):\n",
    "                nn.init.kaiming_normal_(m.weight, mode=\"fan_out\", nonlinearity=\"relu\")\n",
    "            elif isinstance(m, (nn.BatchNorm2d, nn.GroupNorm)):\n",
    "                nn.init.constant_(m.weight, 1)\n",
    "                nn.init.constant_(m.bias, 0)\n",
    "\n",
    "    def _make_layer(self, block, planes, num_blocks, stride):\n",
    "        strides = [stride] + [1] * (num_blocks - 1)\n",
    "        layers = []\n",
    "        for stride in strides:\n",
    "            layers.append(block(self.in_planes, planes, stride))\n",
    "            self.in_planes = planes * block.expansion\n",
    "        return nn.Sequential(*layers)\n",
    "\n",
    "    def forward(self, x):\n",
    "        out = F.relu(self.bn1(self.conv1(x)))\n",
    "        out = self.layer1(out)\n",
    "        out = self.layer2(out)\n",
    "        out = self.layer3(out)\n",
    "        out = self.layer4(out)\n",
    "        out = F.avg_pool2d(out, 4)\n",
    "        out = out.view(out.size(0), -1)\n",
    "        out = self.linear(out)\n",
    "        return out\n",
    "\n",
    "\n",
    "def ResNet18():\n",
    "    return ResNet(BasicBlock, [2, 2, 2, 2])\n",
    "\n",
    "\n",
    "def ResNet34():\n",
    "    return ResNet(BasicBlock, [3, 4, 6, 3])\n",
    "\n",
    "\n",
    "def ResNet50():\n",
    "    return ResNet(Bottleneck, [3, 4, 6, 3])\n",
    "\n",
    "\n",
    "class BasicBlockW(nn.Module):\n",
    "    def __init__(self, in_planes, out_planes, stride, drop_rate=0.0):\n",
    "        super(BasicBlockW, self).__init__()\n",
    "        self.bn1 = nn.BatchNorm2d(in_planes)\n",
    "        self.relu1 = nn.ReLU(inplace=True)\n",
    "        self.conv1 = nn.Conv2d(in_planes, out_planes, kernel_size=3, stride=stride,\n",
    "                               padding=1, bias=False)\n",
    "        self.bn2 = nn.BatchNorm2d(out_planes)\n",
    "        self.relu2 = nn.ReLU(inplace=True)\n",
    "        self.conv2 = nn.Conv2d(out_planes, out_planes, kernel_size=3, stride=1,\n",
    "                               padding=1, bias=False)\n",
    "        self.droprate = drop_rate\n",
    "        self.equalInOut = (in_planes == out_planes)\n",
    "        self.convShortcut = (not self.equalInOut) and nn.Conv2d(in_planes, out_planes, kernel_size=1, stride=stride,\n",
    "                                                                padding=0, bias=False) or None\n",
    "\n",
    "    def forward(self, x):\n",
    "        if not self.equalInOut:\n",
    "            x = self.relu1(self.bn1(x))\n",
    "        else:\n",
    "            out = self.relu1(self.bn1(x))\n",
    "\n",
    "        out = self.relu2(self.bn2(self.conv1(out if self.equalInOut else x)))\n",
    "        if self.droprate > 0:\n",
    "            out = F.dropout(out, p=self.droprate, training=self.training)\n",
    "        out = self.conv2(out)\n",
    "        return torch.add(x if self.equalInOut else self.convShortcut(x), out)\n",
    "\n",
    "\n",
    "class NetworkBlock(nn.Module):\n",
    "    def __init__(self, nb_layers, in_planes, out_planes, block, stride, dropRate=0.0):\n",
    "        super(NetworkBlock, self).__init__()\n",
    "        self.layer = self._make_layer(block, in_planes, out_planes, nb_layers, stride, dropRate)\n",
    "\n",
    "    @staticmethod\n",
    "    def _make_layer(block, in_planes, out_planes, nb_layers, stride, dropRate):\n",
    "        layers = []\n",
    "        for i in range(nb_layers):\n",
    "            layers.append(block(i == 0 and in_planes or out_planes, out_planes, i == 0 and stride or 1, dropRate))\n",
    "        return nn.Sequential(*layers)\n",
    "\n",
    "    def forward(self, x):\n",
    "        return self.layer(x)\n",
    "\n",
    "\n",
    "class WideResNet(nn.Module):\n",
    "    def __init__(self, depth=28, num_classes=10, widen_factor=10, drop_rate=0.0):\n",
    "        super(WideResNet, self).__init__()\n",
    "        n_channels = [16, 16 * widen_factor, 32 * widen_factor, 64 * widen_factor]\n",
    "        assert ((depth - 4) % 6 == 0)\n",
    "        n = int((depth - 4) / 6)\n",
    "        block = BasicBlockW\n",
    "\n",
    "        self.conv1 = nn.Conv2d(3, n_channels[0], kernel_size=3, stride=1,\n",
    "                               padding=1, bias=False)\n",
    "\n",
    "        self.block1 = NetworkBlock(n, n_channels[0], n_channels[1], block, 1, drop_rate)\n",
    "\n",
    "        self.block2 = NetworkBlock(n, n_channels[1], n_channels[2], block, 2, drop_rate)\n",
    "\n",
    "        self.block3 = NetworkBlock(n, n_channels[2], n_channels[3], block, 2, drop_rate)\n",
    "\n",
    "        self.bn1 = nn.BatchNorm2d(n_channels[3])\n",
    "        self.relu = nn.ReLU(inplace=True)\n",
    "        self.fc = nn.Linear(n_channels[3], num_classes)\n",
    "        self.nChannels = n_channels[3]\n",
    "\n",
    "        for m in self.modules():\n",
    "            if isinstance(m, nn.Conv2d):\n",
    "                n = m.kernel_size[0] * m.kernel_size[1] * m.out_channels\n",
    "                m.weight.data.normal_(0, math.sqrt(2. / n))\n",
    "            elif isinstance(m, nn.BatchNorm2d):\n",
    "                m.weight.data.fill_(1)\n",
    "                m.bias.data.zero_()\n",
    "            elif isinstance(m, nn.Linear):\n",
    "                m.bias.data.zero_()\n",
    "\n",
    "    def forward(self, x):\n",
    "        out = self.conv1(x)\n",
    "        out = self.block1(out)\n",
    "        out = self.block2(out)\n",
    "        out = self.block3(out)\n",
    "        out = self.relu(self.bn1(out))\n",
    "        out = F.avg_pool2d(out, 8)\n",
    "        out = out.view(-1, self.nChannels)\n",
    "        return self.fc(out)"
   ]
  },
  {
   "cell_type": "code",
   "execution_count": 24,
   "metadata": {
    "id": "mD7oE4tn0H5M"
   },
   "outputs": [
    {
     "name": "stdout",
     "output_type": "stream",
     "text": [
      "Populating the interactive namespace from numpy and matplotlib\n"
     ]
    }
   ],
   "source": [
    "from copy import deepcopy\n",
    "\n",
    "import matplotlib.pyplot as plt\n",
    "from matplotlib.image import imread\n",
    "from mpl_toolkits import mplot3d\n",
    "from matplotlib import gridspec\n",
    "from PIL import Image\n",
    "import io\n",
    "from urllib.request import urlopen\n",
    "# from skimage.segmentation import mark_boundaries\n",
    "\n",
    "from tqdm.notebook import tqdm\n",
    "import numpy as np\n",
    "import requests\n",
    "import torch\n",
    "\n",
    "from sklearn.metrics import classification_report\n",
    "from torch.utils.tensorboard import SummaryWriter\n",
    "\n",
    "from torchvision import datasets, transforms\n",
    "\n",
    "import torch\n",
    "\n",
    "%matplotlib inline\n",
    "import matplotlib.pyplot as plt\n",
    "from torchvision import datasets\n",
    "import torchvision.transforms as transforms\n",
    "import itertools\n",
    "import numpy as np\n",
    "from matplotlib import gridspec\n",
    "from torch import nn\n",
    "from tqdm import tqdm\n",
    "\n",
    "from torch.utils.data import TensorDataset, DataLoader\n",
    "import time\n",
    "import matplotlib\n",
    "matplotlib.use('pdf')\n",
    "\n",
    "\n",
    "import seaborn; seaborn.set_style('whitegrid')\n",
    "\n",
    "\n",
    "\n",
    "from keras.datasets import mnist\n",
    "from keras.datasets import fashion_mnist\n",
    "\n",
    "from sklearn.metrics import pairwise_distances\n",
    "\n",
    "# from umap import UMAP\n",
    "from apricot import FacilityLocationSelection\n",
    "\n",
    "import keras\n",
    "%pylab inline\n",
    "import seaborn; seaborn.set_style('whitegrid')\n",
    "import shap\n",
    "\n",
    "from sklearn.linear_model import LogisticRegression\n",
    "from shap import LinearExplainer\n",
    "from apricot import FeatureBasedSelection\n",
    "\n",
    "from torchvision.datasets import CIFAR10\n"
   ]
  },
  {
   "cell_type": "code",
   "execution_count": 2,
   "metadata": {
    "id": "n7WbRkWF3KFu"
   },
   "outputs": [],
   "source": [
    "import warnings\n",
    "warnings.filterwarnings(\"ignore\")"
   ]
  },
  {
   "cell_type": "code",
   "execution_count": 3,
   "metadata": {
    "colab": {
     "base_uri": "https://localhost:8080/"
    },
    "id": "SOC4NM-b0hWO",
    "outputId": "976d3fd1-7d27-4c47-f122-f1ea848bde4e"
   },
   "outputs": [
    {
     "data": {
      "text/plain": [
       "device(type='cuda')"
      ]
     },
     "execution_count": 3,
     "metadata": {},
     "output_type": "execute_result"
    }
   ],
   "source": [
    "device = torch.device(\"cuda\" if torch.cuda.is_available() else \"cpu\")\n",
    "device"
   ]
  },
  {
   "cell_type": "code",
   "execution_count": 44,
   "metadata": {
    "id": "iaNtHbRM9Nea"
   },
   "outputs": [],
   "source": [
    "def train_on_batch(clf, x_batch, y_batch, opt, criterion):\n",
    "    clf.train(True)\n",
    "\n",
    "    opt.zero_grad()\n",
    "    output = clf.forward(x_batch.to(device))\n",
    "\n",
    "    loss = criterion(output, y_batch.to(device))\n",
    "    loss.backward()\n",
    "\n",
    "    accuracy = np.mean((y_batch.cpu().numpy() == output.argmax(1).cpu().numpy()))\n",
    "\n",
    "    opt.step()\n",
    "    return loss.cpu().item(), accuracy.item()\n",
    "\n",
    "def epoch_train(loader, clf, criterion, opt):\n",
    "\n",
    "    epoch_loss = np.array([])\n",
    "    epoch_accuracy = np.array([])\n",
    "\n",
    "    for it, (batch_of_x, batch_of_y) in enumerate(loader):\n",
    "        batch_loss, batch_accuracy = train_on_batch(clf, batch_of_x.to(device), batch_of_y.to(device), opt, criterion)\n",
    "\n",
    "        epoch_loss = np.append(epoch_loss, batch_loss)\n",
    "        epoch_accuracy = np.append(epoch_accuracy, batch_accuracy)\n",
    "\n",
    "    return np.mean(epoch_loss), np.mean(epoch_accuracy)\n",
    "\n",
    "\n",
    "\n",
    "def test_on_batch(clf, x_batch, y_batch, opt, criterion):\n",
    "    clf.eval()\n",
    "\n",
    "    with torch.no_grad():\n",
    "\n",
    "        output = clf.forward(x_batch.to(device))\n",
    "        loss = criterion(output, y_batch.to(device))\n",
    "        accuracy = np.mean((y_batch.cpu().numpy() == output.argmax(1).cpu().numpy()))\n",
    "\n",
    "    return loss.cpu().item(), accuracy.item()\n",
    "\n",
    "\n",
    "def epoch_test(loader, clf, criterion):\n",
    "\n",
    "    epoch_loss = np.array([])\n",
    "    epoch_accuracy = np.array([])\n",
    "\n",
    "    for it, (batch_of_x, batch_of_y) in enumerate(loader):\n",
    "        batch_loss, batch_accuracy = test_on_batch(clf, batch_of_x.to(device), batch_of_y.to(device), opt, criterion)\n",
    "\n",
    "        epoch_loss = np.append(epoch_loss, batch_loss)\n",
    "        epoch_accuracy = np.append(epoch_accuracy, batch_accuracy)\n",
    "\n",
    "    return np.mean(epoch_loss), np.mean(epoch_accuracy)\n",
    "\n",
    "\n",
    "def train(train_loader, test_loader, clf, criterion, opt, n_epochs=50):\n",
    "\n",
    "    dict = {'time':np.array([]), 'train_loss':np.array([]), 'train_acc':np.array([]), 'test_loss':np.array([]), 'test_acc':np.array([])}\n",
    "    \n",
    "    start = time.time()\n",
    "    \n",
    "    for epoch in tqdm(range(n_epochs)):\n",
    "        train_loss, train_acc = epoch_train(train_loader, clf, criterion, opt)\n",
    "        test_loss, test_acc = epoch_test(test_loader, clf, criterion)\n",
    "\n",
    "        dict['time'] = np.append(dict['time'], time.time() - start)\n",
    "        dict['train_loss'] = np.append(dict['train_loss'], train_loss)\n",
    "        dict['train_acc'] = np.append(dict['train_acc'], train_acc)\n",
    "        dict['test_loss'] = np.append(dict['test_loss'], test_loss)\n",
    "        dict['test_acc'] = np.append(dict['test_acc'], test_acc)\n",
    "\n",
    "        print(f'[time {epoch + 1}] train loss: {train_loss:.3f}; train acc: {train_acc:.2f}; ' +\n",
    "              f'test loss: {test_loss:.3f}; test acc: {test_acc:.2f}')\n",
    "\n",
    "    return dict\n",
    "\n",
    "\n",
    "\n"
   ]
  },
  {
   "cell_type": "code",
   "execution_count": 5,
   "metadata": {
    "id": "EFu2dbeB2Hz8"
   },
   "outputs": [],
   "source": [
    "\n",
    "    \n",
    "class CNN(nn.Module):\n",
    "    def __init__(self, num_classes=10):\n",
    "        super(CNN, self).__init__()\n",
    "        self.features = nn.Sequential()\n",
    "\n",
    "        self.features.add_module('conv1', torch.nn.Conv2d(3, 32, kernel_size = 3, padding = 1))\n",
    "        self.features.add_module('relu1', torch.nn.ReLU())\n",
    "        self.features.add_module('pool1', torch.nn.MaxPool2d(kernel_size = 2))\n",
    "\n",
    "        self.features.add_module('conv2', torch.nn.Conv2d(32, 64, kernel_size = 3, padding = 1))\n",
    "        self.features.add_module('relu2', torch.nn.ReLU())\n",
    "        self.features.add_module('pool2', torch.nn.MaxPool2d(kernel_size = 2))\n",
    "\n",
    "        self.features.add_module('conv3', torch.nn.Conv2d(64, 128, kernel_size = 3, padding = 1))\n",
    "        self.features.add_module('relu3', torch.nn.ReLU())\n",
    "        self.features.add_module('pool3', torch.nn.MaxPool2d(kernel_size = 2))\n",
    "\n",
    "        self.features.add_module('conv4', torch.nn.Conv2d(128, 256, kernel_size = 3, padding = 1))\n",
    "        self.features.add_module('relu4', torch.nn.ReLU())\n",
    "        self.features.add_module('pool4', torch.nn.MaxPool2d(kernel_size = 2))\n",
    "\n",
    "\n",
    "        self.classifier = nn.Sequential()\n",
    "\n",
    "        self.classifier.add_module('flatten', torch.nn.Flatten())\n",
    "\n",
    "        self.classifier.add_module('linear1', torch.nn.Linear(256*2*2, 512))\n",
    "        self.classifier.add_module('relu5', torch.nn.ReLU())\n",
    "\n",
    "        self.classifier.add_module('linear2', torch.nn.Linear(512, 256))\n",
    "        self.classifier.add_module('relu6', torch.nn.ReLU())\n",
    "\n",
    "        self.classifier.add_module('linear3', torch.nn.Linear(256, 128))\n",
    "        self.classifier.add_module('relu7', torch.nn.ReLU())\n",
    "\n",
    "        self.classifier.add_module('linear4', torch.nn.Linear(128, 64))\n",
    "        self.classifier.add_module('relu8', torch.nn.ReLU())\n",
    "\n",
    "        self.classifier.add_module('linear5', torch.nn.Linear(64, 10))\n",
    "\n",
    "\n",
    "    def forward(self, x):\n",
    "\n",
    "        return self.classifier(self.features(x))"
   ]
  },
  {
   "cell_type": "code",
   "execution_count": 36,
   "metadata": {
    "id": "OafNqdEbLWJz"
   },
   "outputs": [],
   "source": [
    "torch.cuda.set_device(0)\n",
    "clf_cnn = ResNet50()\n",
    "clf_cnn.to(device)\n",
    "clf_cnn.device = device"
   ]
  },
  {
   "cell_type": "code",
   "execution_count": 41,
   "metadata": {},
   "outputs": [
    {
     "name": "stdout",
     "output_type": "stream",
     "text": [
      "Files already downloaded and verified\n",
      "Files already downloaded and verified\n"
     ]
    }
   ],
   "source": [
    "batch_size = 128\n",
    "mean = [0.4914, 0.4822, 0.4465]\n",
    "std = [0.2470, 0.2435, 0.2616]\n",
    "\n",
    "train_transform = transforms.Compose([\n",
    "    # transforms.RandomCrop(32, padding=4),\n",
    "    transforms.RandomHorizontalFlip(p=0.5),\n",
    "    transforms.RandomRotation(10),\n",
    "    transforms.ToTensor(),\n",
    "    transforms.Normalize(mean, std)\n",
    "])\n",
    "\n",
    "test_transform = transforms.Compose([\n",
    "    transforms.ToTensor(),\n",
    "    transforms.Normalize(mean=mean, std=std)\n",
    "])\n",
    "\n",
    "\n",
    "train_set = CIFAR10(root='./data', train=True, download=True, transform=train_transform)\n",
    "train_loader = DataLoader(train_set, batch_size=batch_size, shuffle=True)\n",
    "\n",
    "test_set = CIFAR10(root='./data', train=False, download=True, transform=test_transform)\n",
    "test_loader = DataLoader(test_set, batch_size=batch_size, shuffle=False)\n"
   ]
  },
  {
   "cell_type": "code",
   "execution_count": 42,
   "metadata": {
    "colab": {
     "base_uri": "https://localhost:8080/"
    },
    "id": "-X_0EjY0_LtT",
    "outputId": "1669f565-5373-46af-e44c-a69a05697095"
   },
   "outputs": [],
   "source": [
    "\n",
    "opt = torch.optim.Adam(clf_cnn.parameters(), lr=0.001)\n",
    "criterion = torch.nn.CrossEntropyLoss()\n"
   ]
  },
  {
   "cell_type": "code",
   "execution_count": 45,
   "metadata": {
    "colab": {
     "base_uri": "https://localhost:8080/"
    },
    "id": "mTsGmvZL-vOt",
    "outputId": "a6254564-b3d2-4155-d95f-5aa9819a3b02"
   },
   "outputs": [
    {
     "name": "stderr",
     "output_type": "stream",
     "text": [
      "  4%|▍         | 1/25 [01:51<44:47, 112.00s/it]"
     ]
    },
    {
     "name": "stdout",
     "output_type": "stream",
     "text": [
      "[time 1] train loss: 0.800; train acc: 0.72; test loss: 0.795; test acc: 0.73\n"
     ]
    },
    {
     "name": "stderr",
     "output_type": "stream",
     "text": [
      "\r",
      "  8%|▊         | 2/25 [03:45<43:14, 112.79s/it]"
     ]
    },
    {
     "name": "stdout",
     "output_type": "stream",
     "text": [
      "[time 2] train loss: 0.667; train acc: 0.76; test loss: 0.626; test acc: 0.78\n"
     ]
    },
    {
     "name": "stderr",
     "output_type": "stream",
     "text": [
      "\r",
      " 12%|█▏        | 3/25 [05:38<41:21, 112.79s/it]"
     ]
    },
    {
     "name": "stdout",
     "output_type": "stream",
     "text": [
      "[time 3] train loss: 0.568; train acc: 0.80; test loss: 0.693; test acc: 0.76\n"
     ]
    },
    {
     "name": "stderr",
     "output_type": "stream",
     "text": [
      "\r",
      " 16%|█▌        | 4/25 [07:31<39:34, 113.09s/it]"
     ]
    },
    {
     "name": "stdout",
     "output_type": "stream",
     "text": [
      "[time 4] train loss: 0.505; train acc: 0.82; test loss: 0.513; test acc: 0.82\n"
     ]
    },
    {
     "name": "stderr",
     "output_type": "stream",
     "text": [
      "\r",
      " 20%|██        | 5/25 [09:24<37:41, 113.09s/it]"
     ]
    },
    {
     "name": "stdout",
     "output_type": "stream",
     "text": [
      "[time 5] train loss: 0.450; train acc: 0.84; test loss: 0.512; test acc: 0.82\n"
     ]
    },
    {
     "name": "stderr",
     "output_type": "stream",
     "text": [
      "\r",
      " 24%|██▍       | 6/25 [11:18<35:50, 113.19s/it]"
     ]
    },
    {
     "name": "stdout",
     "output_type": "stream",
     "text": [
      "[time 6] train loss: 0.415; train acc: 0.86; test loss: 0.518; test acc: 0.83\n"
     ]
    },
    {
     "name": "stderr",
     "output_type": "stream",
     "text": [
      "\r",
      " 28%|██▊       | 7/25 [13:10<33:53, 112.98s/it]"
     ]
    },
    {
     "name": "stdout",
     "output_type": "stream",
     "text": [
      "[time 7] train loss: 0.378; train acc: 0.87; test loss: 0.489; test acc: 0.84\n"
     ]
    },
    {
     "name": "stderr",
     "output_type": "stream",
     "text": [
      "\r",
      " 32%|███▏      | 8/25 [15:03<32:00, 112.97s/it]"
     ]
    },
    {
     "name": "stdout",
     "output_type": "stream",
     "text": [
      "[time 8] train loss: 0.340; train acc: 0.88; test loss: 0.437; test acc: 0.86\n"
     ]
    },
    {
     "name": "stderr",
     "output_type": "stream",
     "text": [
      "\r",
      " 36%|███▌      | 9/25 [16:56<30:05, 112.84s/it]"
     ]
    },
    {
     "name": "stdout",
     "output_type": "stream",
     "text": [
      "[time 9] train loss: 0.331; train acc: 0.88; test loss: 0.397; test acc: 0.86\n"
     ]
    },
    {
     "name": "stderr",
     "output_type": "stream",
     "text": [
      "\r",
      " 40%|████      | 10/25 [18:48<28:12, 112.81s/it]"
     ]
    },
    {
     "name": "stdout",
     "output_type": "stream",
     "text": [
      "[time 10] train loss: 0.292; train acc: 0.90; test loss: 0.397; test acc: 0.87\n"
     ]
    },
    {
     "name": "stderr",
     "output_type": "stream",
     "text": [
      "\r",
      " 44%|████▍     | 11/25 [20:41<26:18, 112.72s/it]"
     ]
    },
    {
     "name": "stdout",
     "output_type": "stream",
     "text": [
      "[time 11] train loss: 0.264; train acc: 0.91; test loss: 0.382; test acc: 0.87\n"
     ]
    },
    {
     "name": "stderr",
     "output_type": "stream",
     "text": [
      "\r",
      " 48%|████▊     | 12/25 [22:33<24:24, 112.62s/it]"
     ]
    },
    {
     "name": "stdout",
     "output_type": "stream",
     "text": [
      "[time 12] train loss: 0.252; train acc: 0.91; test loss: 0.408; test acc: 0.87\n"
     ]
    },
    {
     "name": "stderr",
     "output_type": "stream",
     "text": [
      "\r",
      " 52%|█████▏    | 13/25 [24:26<22:31, 112.61s/it]"
     ]
    },
    {
     "name": "stdout",
     "output_type": "stream",
     "text": [
      "[time 13] train loss: 0.226; train acc: 0.92; test loss: 0.406; test acc: 0.87\n"
     ]
    },
    {
     "name": "stderr",
     "output_type": "stream",
     "text": [
      "\r",
      " 56%|█████▌    | 14/25 [26:18<20:37, 112.54s/it]"
     ]
    },
    {
     "name": "stdout",
     "output_type": "stream",
     "text": [
      "[time 14] train loss: 0.215; train acc: 0.92; test loss: 0.409; test acc: 0.87\n"
     ]
    },
    {
     "name": "stderr",
     "output_type": "stream",
     "text": [
      "\r",
      " 60%|██████    | 15/25 [28:11<18:44, 112.49s/it]"
     ]
    },
    {
     "name": "stdout",
     "output_type": "stream",
     "text": [
      "[time 15] train loss: 0.201; train acc: 0.93; test loss: 0.368; test acc: 0.88\n"
     ]
    },
    {
     "name": "stderr",
     "output_type": "stream",
     "text": [
      "\r",
      " 64%|██████▍   | 16/25 [30:03<16:52, 112.47s/it]"
     ]
    },
    {
     "name": "stdout",
     "output_type": "stream",
     "text": [
      "[time 16] train loss: 0.178; train acc: 0.94; test loss: 0.426; test acc: 0.87\n"
     ]
    },
    {
     "name": "stderr",
     "output_type": "stream",
     "text": [
      "\r",
      " 68%|██████▊   | 17/25 [31:56<14:59, 112.50s/it]"
     ]
    },
    {
     "name": "stdout",
     "output_type": "stream",
     "text": [
      "[time 17] train loss: 0.165; train acc: 0.94; test loss: 0.399; test acc: 0.88\n"
     ]
    },
    {
     "name": "stderr",
     "output_type": "stream",
     "text": [
      "\r",
      " 72%|███████▏  | 18/25 [33:48<13:07, 112.52s/it]"
     ]
    },
    {
     "name": "stdout",
     "output_type": "stream",
     "text": [
      "[time 18] train loss: 0.156; train acc: 0.94; test loss: 0.389; test acc: 0.88\n"
     ]
    },
    {
     "name": "stderr",
     "output_type": "stream",
     "text": [
      "\r",
      " 76%|███████▌  | 19/25 [35:41<11:15, 112.55s/it]"
     ]
    },
    {
     "name": "stdout",
     "output_type": "stream",
     "text": [
      "[time 19] train loss: 0.168; train acc: 0.94; test loss: 0.385; test acc: 0.88\n"
     ]
    },
    {
     "name": "stderr",
     "output_type": "stream",
     "text": [
      "\r",
      " 80%|████████  | 20/25 [37:34<09:23, 112.60s/it]"
     ]
    },
    {
     "name": "stdout",
     "output_type": "stream",
     "text": [
      "[time 20] train loss: 0.132; train acc: 0.95; test loss: 0.416; test acc: 0.88\n"
     ]
    },
    {
     "name": "stderr",
     "output_type": "stream",
     "text": [
      "\r",
      " 84%|████████▍ | 21/25 [39:26<07:30, 112.63s/it]"
     ]
    },
    {
     "name": "stdout",
     "output_type": "stream",
     "text": [
      "[time 21] train loss: 0.126; train acc: 0.95; test loss: 0.393; test acc: 0.89\n"
     ]
    },
    {
     "name": "stderr",
     "output_type": "stream",
     "text": [
      "\r",
      " 88%|████████▊ | 22/25 [41:19<05:37, 112.61s/it]"
     ]
    },
    {
     "name": "stdout",
     "output_type": "stream",
     "text": [
      "[time 22] train loss: 0.115; train acc: 0.96; test loss: 0.396; test acc: 0.89\n"
     ]
    },
    {
     "name": "stderr",
     "output_type": "stream",
     "text": [
      "\r",
      " 92%|█████████▏| 23/25 [43:11<03:45, 112.56s/it]"
     ]
    },
    {
     "name": "stdout",
     "output_type": "stream",
     "text": [
      "[time 23] train loss: 0.114; train acc: 0.96; test loss: 0.383; test acc: 0.89\n"
     ]
    },
    {
     "name": "stderr",
     "output_type": "stream",
     "text": [
      "\r",
      " 96%|█████████▌| 24/25 [45:04<01:52, 112.54s/it]"
     ]
    },
    {
     "name": "stdout",
     "output_type": "stream",
     "text": [
      "[time 24] train loss: 0.104; train acc: 0.96; test loss: 0.390; test acc: 0.89\n"
     ]
    },
    {
     "name": "stderr",
     "output_type": "stream",
     "text": [
      "100%|██████████| 25/25 [46:56<00:00, 112.67s/it]"
     ]
    },
    {
     "name": "stdout",
     "output_type": "stream",
     "text": [
      "[time 25] train loss: 0.096; train acc: 0.97; test loss: 0.404; test acc: 0.89\n"
     ]
    },
    {
     "name": "stderr",
     "output_type": "stream",
     "text": [
      "\n"
     ]
    }
   ],
   "source": [
    "n_epochs=25\n",
    "\n",
    "res = train(train_loader, test_loader, clf_cnn, criterion, opt, n_epochs=n_epochs)"
   ]
  },
  {
   "cell_type": "code",
   "execution_count": 73,
   "metadata": {
    "colab": {
     "base_uri": "https://localhost:8080/",
     "height": 571
    },
    "id": "TytXLsQJCRXB",
    "outputId": "d46b77ec-8907-4bc6-b676-bf8f28668712"
   },
   "outputs": [
    {
     "data": {
      "text/plain": [
       "<matplotlib.legend.Legend at 0x7f8b6dedc730>"
      ]
     },
     "execution_count": 73,
     "metadata": {},
     "output_type": "execute_result"
    },
    {
     "data": {
      "image/png": "[encoded data removed]",
      "text/plain": [
       "<Figure size 1080x720 with 2 Axes>"
      ]
     },
     "metadata": {},
     "output_type": "display_data"
    }
   ],
   "source": [
    "fig, (ax1, ax2) = plt.subplots(1, 2, figsize=(15, 10))\n",
    "\n",
    "ax1.set_title('Loss for full dataset')\n",
    "ax2.set_title('Accuracy for full dataset')\n",
    "\n",
    "ax1.plot(res['time'], res['train_loss'], label='train_loss')\n",
    "ax1.plot(res['time'], res['test_loss'], label='test_loss')\n",
    "\n",
    "ax1.set_xlabel(\"time\")\n",
    "ax1.set_ylabel(\"Loss\")\n",
    "ax1.legend()\n",
    "\n",
    "\n",
    "\n",
    "ax2.plot(res['time'], res['train_acc'], label='train_acc')\n",
    "ax2.plot(res['time'], res['test_acc'], label='test_acc')\n",
    "\n",
    "ax2.set_xlabel(\"time\")\n",
    "ax2.set_ylabel(\"Loss\")\n",
    "ax2.legend()\n",
    "\n"
   ]
  },
  {
   "cell_type": "markdown",
   "metadata": {},
   "source": [
    "# -----------------------------------------"
   ]
  },
  {
   "cell_type": "code",
   "execution_count": 57,
   "metadata": {},
   "outputs": [],
   "source": [
    "torch.cuda.set_device(0)\n",
    "clf_cnn = ResNet50()\n",
    "clf_cnn.to(device)\n",
    "clf_cnn.device = device"
   ]
  },
  {
   "cell_type": "code",
   "execution_count": 58,
   "metadata": {
    "scrolled": true
   },
   "outputs": [
    {
     "name": "stdout",
     "output_type": "stream",
     "text": [
      "Files already downloaded and verified\n",
      "Files already downloaded and verified\n"
     ]
    }
   ],
   "source": [
    "\n",
    "batch_size = 128\n",
    "mean = [0.4914, 0.4822, 0.4465]\n",
    "std = [0.2470, 0.2435, 0.2616]\n",
    "\n",
    "train_transform = transforms.Compose([\n",
    "    # transforms.RandomCrop(32, padding=4),\n",
    "    transforms.RandomHorizontalFlip(p=0.5),\n",
    "    transforms.RandomRotation(10),\n",
    "    transforms.ToTensor(),\n",
    "    transforms.Normalize(mean, std)\n",
    "])\n",
    "\n",
    "test_transform = transforms.Compose([\n",
    "    transforms.ToTensor(),\n",
    "    transforms.Normalize(mean=mean, std=std)\n",
    "])\n",
    "\n",
    "\n",
    "train_set = CIFAR10(root='./data', train=True, download=True, transform=train_transform)\n",
    "\n",
    "test_set = CIFAR10(root='./data', train=False, download=True, transform=test_transform)\n",
    "\n",
    "\n",
    "\n",
    "train_loader = DataLoader(train_set, batch_size=len(train_set))\n",
    "test_loader = DataLoader(test_set, batch_size=batch_size)\n",
    "\n",
    "X_train = next(iter(train_loader))[0].numpy()\n",
    "y_train = next(iter(train_loader))[1].numpy()\n"
   ]
  },
  {
   "cell_type": "code",
   "execution_count": 59,
   "metadata": {},
   "outputs": [
    {
     "name": "stderr",
     "output_type": "stream",
     "text": [
      "100%|██████████| 50.0k/50.0k [1:25:07<00:00, 9.79it/s]\n"
     ]
    }
   ],
   "source": [
    "n = 50000 #value of training set\n",
    "X_train = X_train.reshape(X_train.shape[0], 3*32*32)\n",
    "X_train_apricot, y_train_apricot = FacilityLocationSelection(n, verbose=True).fit_transform(X_train, y_train)\n",
    "X_train_apricot = X_train_apricot.reshape(n, 3, 32, 32)\n"
   ]
  },
  {
   "cell_type": "code",
   "execution_count": 60,
   "metadata": {},
   "outputs": [],
   "source": [
    "tensor_x = torch.Tensor(X_train_apricot[:40000,:,:]) \n",
    "tensor_y = torch.Tensor(y_train_apricot[:40000]).type(torch.LongTensor)\n",
    "\n",
    "train_set = TensorDataset(tensor_x,tensor_y)\n",
    "train_loader = DataLoader(train_set, batch_size=batch_size)\n"
   ]
  },
  {
   "cell_type": "code",
   "execution_count": 61,
   "metadata": {},
   "outputs": [],
   "source": [
    "opt = torch.optim.Adam(clf_cnn.parameters(), lr=0.001)\n",
    "criterion = torch.nn.CrossEntropyLoss()"
   ]
  },
  {
   "cell_type": "code",
   "execution_count": 62,
   "metadata": {
    "scrolled": false
   },
   "outputs": [
    {
     "name": "stderr",
     "output_type": "stream",
     "text": [
      "  2%|▎         | 1/40 [01:21<53:15, 81.94s/it]"
     ]
    },
    {
     "name": "stdout",
     "output_type": "stream",
     "text": [
      "[time 1] train loss: 1.509; train acc: 0.47; test loss: 1.548; test acc: 0.46\n"
     ]
    },
    {
     "name": "stderr",
     "output_type": "stream",
     "text": [
      "\r",
      "  5%|▌         | 2/40 [02:43<51:43, 81.67s/it]"
     ]
    },
    {
     "name": "stdout",
     "output_type": "stream",
     "text": [
      "[time 2] train loss: 1.055; train acc: 0.62; test loss: 1.204; test acc: 0.60\n"
     ]
    },
    {
     "name": "stderr",
     "output_type": "stream",
     "text": [
      "\r",
      "  8%|▊         | 3/40 [04:04<50:19, 81.61s/it]"
     ]
    },
    {
     "name": "stdout",
     "output_type": "stream",
     "text": [
      "[time 3] train loss: 0.819; train acc: 0.71; test loss: 1.225; test acc: 0.60\n"
     ]
    },
    {
     "name": "stderr",
     "output_type": "stream",
     "text": [
      "\r",
      " 10%|█         | 4/40 [05:26<48:59, 81.66s/it]"
     ]
    },
    {
     "name": "stdout",
     "output_type": "stream",
     "text": [
      "[time 4] train loss: 0.653; train acc: 0.77; test loss: 1.499; test acc: 0.59\n"
     ]
    },
    {
     "name": "stderr",
     "output_type": "stream",
     "text": [
      "\r",
      " 12%|█▎        | 5/40 [06:48<47:40, 81.73s/it]"
     ]
    },
    {
     "name": "stdout",
     "output_type": "stream",
     "text": [
      "[time 5] train loss: 0.548; train acc: 0.81; test loss: 1.353; test acc: 0.64\n"
     ]
    },
    {
     "name": "stderr",
     "output_type": "stream",
     "text": [
      "\r",
      " 15%|█▌        | 6/40 [08:10<46:21, 81.81s/it]"
     ]
    },
    {
     "name": "stdout",
     "output_type": "stream",
     "text": [
      "[time 6] train loss: 0.461; train acc: 0.84; test loss: 1.257; test acc: 0.68\n"
     ]
    },
    {
     "name": "stderr",
     "output_type": "stream",
     "text": [
      "\r",
      " 18%|█▊        | 7/40 [09:32<45:01, 81.87s/it]"
     ]
    },
    {
     "name": "stdout",
     "output_type": "stream",
     "text": [
      "[time 7] train loss: 0.380; train acc: 0.87; test loss: 1.274; test acc: 0.68\n"
     ]
    },
    {
     "name": "stderr",
     "output_type": "stream",
     "text": [
      "\r",
      " 20%|██        | 8/40 [10:54<43:42, 81.95s/it]"
     ]
    },
    {
     "name": "stdout",
     "output_type": "stream",
     "text": [
      "[time 8] train loss: 0.309; train acc: 0.89; test loss: 1.152; test acc: 0.70\n"
     ]
    },
    {
     "name": "stderr",
     "output_type": "stream",
     "text": [
      "\r",
      " 22%|██▎       | 9/40 [12:16<42:22, 82.03s/it]"
     ]
    },
    {
     "name": "stdout",
     "output_type": "stream",
     "text": [
      "[time 9] train loss: 0.256; train acc: 0.91; test loss: 1.339; test acc: 0.70\n"
     ]
    },
    {
     "name": "stderr",
     "output_type": "stream",
     "text": [
      "\r",
      " 25%|██▌       | 10/40 [13:39<41:02, 82.08s/it]"
     ]
    },
    {
     "name": "stdout",
     "output_type": "stream",
     "text": [
      "[time 10] train loss: 0.214; train acc: 0.92; test loss: 1.243; test acc: 0.72\n"
     ]
    },
    {
     "name": "stderr",
     "output_type": "stream",
     "text": [
      "\r",
      " 28%|██▊       | 11/40 [15:01<39:42, 82.15s/it]"
     ]
    },
    {
     "name": "stdout",
     "output_type": "stream",
     "text": [
      "[time 11] train loss: 0.175; train acc: 0.94; test loss: 1.314; test acc: 0.73\n"
     ]
    },
    {
     "name": "stderr",
     "output_type": "stream",
     "text": [
      "\r",
      " 30%|███       | 12/40 [16:23<38:21, 82.18s/it]"
     ]
    },
    {
     "name": "stdout",
     "output_type": "stream",
     "text": [
      "[time 12] train loss: 0.138; train acc: 0.95; test loss: 1.624; test acc: 0.72\n"
     ]
    },
    {
     "name": "stderr",
     "output_type": "stream",
     "text": [
      "\r",
      " 32%|███▎      | 13/40 [17:45<36:59, 82.21s/it]"
     ]
    },
    {
     "name": "stdout",
     "output_type": "stream",
     "text": [
      "[time 13] train loss: 0.122; train acc: 0.96; test loss: 1.233; test acc: 0.75\n"
     ]
    },
    {
     "name": "stderr",
     "output_type": "stream",
     "text": [
      "\r",
      " 35%|███▌      | 14/40 [19:08<35:39, 82.27s/it]"
     ]
    },
    {
     "name": "stdout",
     "output_type": "stream",
     "text": [
      "[time 14] train loss: 0.098; train acc: 0.96; test loss: 1.487; test acc: 0.73\n"
     ]
    },
    {
     "name": "stderr",
     "output_type": "stream",
     "text": [
      "\r",
      " 38%|███▊      | 15/40 [20:30<34:17, 82.29s/it]"
     ]
    },
    {
     "name": "stdout",
     "output_type": "stream",
     "text": [
      "[time 15] train loss: 0.098; train acc: 0.97; test loss: 1.343; test acc: 0.75\n"
     ]
    },
    {
     "name": "stderr",
     "output_type": "stream",
     "text": [
      "\r",
      " 40%|████      | 16/40 [21:52<32:54, 82.28s/it]"
     ]
    },
    {
     "name": "stdout",
     "output_type": "stream",
     "text": [
      "[time 16] train loss: 0.085; train acc: 0.97; test loss: 1.358; test acc: 0.75\n"
     ]
    },
    {
     "name": "stderr",
     "output_type": "stream",
     "text": [
      "\r",
      " 42%|████▎     | 17/40 [23:15<31:34, 82.37s/it]"
     ]
    },
    {
     "name": "stdout",
     "output_type": "stream",
     "text": [
      "[time 17] train loss: 0.082; train acc: 0.97; test loss: 1.368; test acc: 0.76\n"
     ]
    },
    {
     "name": "stderr",
     "output_type": "stream",
     "text": [
      "\r",
      " 45%|████▌     | 18/40 [24:37<30:12, 82.39s/it]"
     ]
    },
    {
     "name": "stdout",
     "output_type": "stream",
     "text": [
      "[time 18] train loss: 0.075; train acc: 0.97; test loss: 1.726; test acc: 0.72\n"
     ]
    },
    {
     "name": "stderr",
     "output_type": "stream",
     "text": [
      "\r",
      " 48%|████▊     | 19/40 [26:00<28:50, 82.40s/it]"
     ]
    },
    {
     "name": "stdout",
     "output_type": "stream",
     "text": [
      "[time 19] train loss: 0.075; train acc: 0.98; test loss: 1.498; test acc: 0.76\n"
     ]
    },
    {
     "name": "stderr",
     "output_type": "stream",
     "text": [
      "\r",
      " 50%|█████     | 20/40 [27:22<27:29, 82.46s/it]"
     ]
    },
    {
     "name": "stdout",
     "output_type": "stream",
     "text": [
      "[time 20] train loss: 0.070; train acc: 0.98; test loss: 1.230; test acc: 0.78\n"
     ]
    },
    {
     "name": "stderr",
     "output_type": "stream",
     "text": [
      "\r",
      " 52%|█████▎    | 21/40 [28:45<26:06, 82.44s/it]"
     ]
    },
    {
     "name": "stdout",
     "output_type": "stream",
     "text": [
      "[time 21] train loss: 0.056; train acc: 0.98; test loss: 1.387; test acc: 0.78\n"
     ]
    },
    {
     "name": "stderr",
     "output_type": "stream",
     "text": [
      "\r",
      " 55%|█████▌    | 22/40 [30:07<24:43, 82.42s/it]"
     ]
    },
    {
     "name": "stdout",
     "output_type": "stream",
     "text": [
      "[time 22] train loss: 0.059; train acc: 0.98; test loss: 1.502; test acc: 0.76\n"
     ]
    },
    {
     "name": "stderr",
     "output_type": "stream",
     "text": [
      "\r",
      " 57%|█████▊    | 23/40 [31:30<23:21, 82.42s/it]"
     ]
    },
    {
     "name": "stdout",
     "output_type": "stream",
     "text": [
      "[time 23] train loss: 0.055; train acc: 0.98; test loss: 1.431; test acc: 0.76\n"
     ]
    },
    {
     "name": "stderr",
     "output_type": "stream",
     "text": [
      "\r",
      " 60%|██████    | 24/40 [32:52<21:58, 82.43s/it]"
     ]
    },
    {
     "name": "stdout",
     "output_type": "stream",
     "text": [
      "[time 24] train loss: 0.048; train acc: 0.98; test loss: 1.392; test acc: 0.77\n"
     ]
    },
    {
     "name": "stderr",
     "output_type": "stream",
     "text": [
      "\r",
      " 62%|██████▎   | 25/40 [34:14<20:36, 82.43s/it]"
     ]
    },
    {
     "name": "stdout",
     "output_type": "stream",
     "text": [
      "[time 25] train loss: 0.055; train acc: 0.98; test loss: 1.612; test acc: 0.74\n"
     ]
    },
    {
     "name": "stderr",
     "output_type": "stream",
     "text": [
      "\r",
      " 65%|██████▌   | 26/40 [35:37<19:13, 82.41s/it]"
     ]
    },
    {
     "name": "stdout",
     "output_type": "stream",
     "text": [
      "[time 26] train loss: 0.047; train acc: 0.98; test loss: 1.473; test acc: 0.77\n"
     ]
    },
    {
     "name": "stderr",
     "output_type": "stream",
     "text": [
      "\r",
      " 68%|██████▊   | 27/40 [36:59<17:51, 82.43s/it]"
     ]
    },
    {
     "name": "stdout",
     "output_type": "stream",
     "text": [
      "[time 27] train loss: 0.045; train acc: 0.98; test loss: 1.343; test acc: 0.78\n"
     ]
    },
    {
     "name": "stderr",
     "output_type": "stream",
     "text": [
      "\r",
      " 70%|███████   | 28/40 [38:22<16:28, 82.38s/it]"
     ]
    },
    {
     "name": "stdout",
     "output_type": "stream",
     "text": [
      "[time 28] train loss: 0.041; train acc: 0.99; test loss: 1.408; test acc: 0.77\n"
     ]
    },
    {
     "name": "stderr",
     "output_type": "stream",
     "text": [
      "\r",
      " 72%|███████▎  | 29/40 [39:44<15:07, 82.49s/it]"
     ]
    },
    {
     "name": "stdout",
     "output_type": "stream",
     "text": [
      "[time 29] train loss: 0.046; train acc: 0.98; test loss: 1.420; test acc: 0.78\n"
     ]
    },
    {
     "name": "stderr",
     "output_type": "stream",
     "text": [
      "\r",
      " 75%|███████▌  | 30/40 [41:07<13:44, 82.47s/it]"
     ]
    },
    {
     "name": "stdout",
     "output_type": "stream",
     "text": [
      "[time 30] train loss: 0.039; train acc: 0.99; test loss: 1.488; test acc: 0.78\n"
     ]
    },
    {
     "name": "stderr",
     "output_type": "stream",
     "text": [
      "\r",
      " 78%|███████▊  | 31/40 [42:29<12:21, 82.40s/it]"
     ]
    },
    {
     "name": "stdout",
     "output_type": "stream",
     "text": [
      "[time 31] train loss: 0.043; train acc: 0.98; test loss: 1.410; test acc: 0.77\n"
     ]
    },
    {
     "name": "stderr",
     "output_type": "stream",
     "text": [
      "\r",
      " 80%|████████  | 32/40 [43:51<10:59, 82.43s/it]"
     ]
    },
    {
     "name": "stdout",
     "output_type": "stream",
     "text": [
      "[time 32] train loss: 0.040; train acc: 0.99; test loss: 1.454; test acc: 0.77\n"
     ]
    },
    {
     "name": "stderr",
     "output_type": "stream",
     "text": [
      "\r",
      " 82%|████████▎ | 33/40 [45:14<09:36, 82.40s/it]"
     ]
    },
    {
     "name": "stdout",
     "output_type": "stream",
     "text": [
      "[time 33] train loss: 0.034; train acc: 0.99; test loss: 1.402; test acc: 0.78\n"
     ]
    },
    {
     "name": "stderr",
     "output_type": "stream",
     "text": [
      "\r",
      " 85%|████████▌ | 34/40 [46:36<08:14, 82.39s/it]"
     ]
    },
    {
     "name": "stdout",
     "output_type": "stream",
     "text": [
      "[time 34] train loss: 0.038; train acc: 0.99; test loss: 1.227; test acc: 0.80\n"
     ]
    },
    {
     "name": "stderr",
     "output_type": "stream",
     "text": [
      "\r",
      " 88%|████████▊ | 35/40 [47:59<06:52, 82.41s/it]"
     ]
    },
    {
     "name": "stdout",
     "output_type": "stream",
     "text": [
      "[time 35] train loss: 0.038; train acc: 0.99; test loss: 1.311; test acc: 0.78\n"
     ]
    },
    {
     "name": "stderr",
     "output_type": "stream",
     "text": [
      "\r",
      " 90%|█████████ | 36/40 [49:21<05:29, 82.45s/it]"
     ]
    },
    {
     "name": "stdout",
     "output_type": "stream",
     "text": [
      "[time 36] train loss: 0.033; train acc: 0.99; test loss: 1.290; test acc: 0.79\n"
     ]
    },
    {
     "name": "stderr",
     "output_type": "stream",
     "text": [
      "\r",
      " 92%|█████████▎| 37/40 [50:44<04:07, 82.50s/it]"
     ]
    },
    {
     "name": "stdout",
     "output_type": "stream",
     "text": [
      "[time 37] train loss: 0.036; train acc: 0.99; test loss: 1.357; test acc: 0.79\n"
     ]
    },
    {
     "name": "stderr",
     "output_type": "stream",
     "text": [
      "\r",
      " 95%|█████████▌| 38/40 [52:06<02:44, 82.48s/it]"
     ]
    },
    {
     "name": "stdout",
     "output_type": "stream",
     "text": [
      "[time 38] train loss: 0.023; train acc: 0.99; test loss: 1.398; test acc: 0.79\n"
     ]
    },
    {
     "name": "stderr",
     "output_type": "stream",
     "text": [
      "\r",
      " 98%|█████████▊| 39/40 [53:29<01:22, 82.52s/it]"
     ]
    },
    {
     "name": "stdout",
     "output_type": "stream",
     "text": [
      "[time 39] train loss: 0.028; train acc: 0.99; test loss: 1.588; test acc: 0.77\n"
     ]
    },
    {
     "name": "stderr",
     "output_type": "stream",
     "text": [
      "100%|██████████| 40/40 [54:51<00:00, 82.29s/it]"
     ]
    },
    {
     "name": "stdout",
     "output_type": "stream",
     "text": [
      "[time 40] train loss: 0.034; train acc: 0.99; test loss: 1.348; test acc: 0.79\n"
     ]
    },
    {
     "name": "stderr",
     "output_type": "stream",
     "text": [
      "\n"
     ]
    }
   ],
   "source": [
    "n_epochs=40\n",
    "\n",
    "res_sub_opt = train(train_loader, test_loader, clf_cnn, criterion, opt, n_epochs=n_epochs)"
   ]
  },
  {
   "cell_type": "code",
   "execution_count": 74,
   "metadata": {},
   "outputs": [
    {
     "data": {
      "text/plain": [
       "Text(0, 0.5, 'Accuracy')"
      ]
     },
     "execution_count": 74,
     "metadata": {},
     "output_type": "execute_result"
    },
    {
     "data": {
      "image/png": "[encoded data removed]",
      "text/plain": [
       "<Figure size 1080x720 with 2 Axes>"
      ]
     },
     "metadata": {},
     "output_type": "display_data"
    }
   ],
   "source": [
    "fig, (ax1, ax2) = plt.subplots(1, 2, figsize=(15, 10))\n",
    "\n",
    "ax1.set_title('Loss for optimized dataset')\n",
    "ax2.set_title('Accuracy for optimized dataset')\n",
    "\n",
    "\n",
    "ax1.plot(res_sub_opt['time'], res_sub_opt['test_loss'], label='test_loss_subopt')\n",
    "ax1.plot(res_sub_opt['time'], res_sub_opt['train_loss'], label='train_loss_subopt')\n",
    "\n",
    "ax1.legend()\n",
    "\n",
    "ax2.plot(res_sub_opt['time'], res_sub_opt['test_acc'], label='test_acc_subopt')\n",
    "ax2.plot(res_sub_opt['time'], res_sub_opt['train_acc'], label='train_acc_subopt')\n",
    "\n",
    "ax2.legend()\n",
    "\n",
    "# ax1.plot(res['time'], res['test_loss'], label='test_loss_uniform')\n",
    "# ax1.legend()\n",
    "\n",
    "\n",
    "# ax2.plot(res['time'], res['test_acc'], label='test_acc_uniform')\n",
    "# ax2.legend()\n",
    "\n",
    "\n",
    "ax1.set_xlabel(\"Seconds\")\n",
    "ax1.set_ylabel(\"Loss\")\n",
    "\n",
    "ax2.set_xlabel(\"Seconds\")\n",
    "ax2.set_ylabel(\"Accuracy\")"
   ]
  },
  {
   "cell_type": "code",
   "execution_count": 63,
   "metadata": {},
   "outputs": [
    {
     "data": {
      "text/plain": [
       "Text(0, 0.5, 'Accuracy')"
      ]
     },
     "execution_count": 63,
     "metadata": {},
     "output_type": "execute_result"
    },
    {
     "data": {
      "image/png": "[encoded data removed]",
      "text/plain": [
       "<Figure size 1080x720 with 2 Axes>"
      ]
     },
     "metadata": {},
     "output_type": "display_data"
    }
   ],
   "source": [
    "fig, (ax1, ax2) = plt.subplots(1, 2, figsize=(15, 10))\n",
    "\n",
    "\n",
    "ax1.plot(res_sub_opt['time'], res_sub_opt['test_loss'], label='test_loss_subopt')\n",
    "ax1.legend()\n",
    "\n",
    "ax2.plot(res_sub_opt['time'], res_sub_opt['test_acc'], label='test_acc_subopt')\n",
    "ax2.legend()\n",
    "\n",
    "ax1.plot(res['time'], res['test_loss'], label='test_loss_uniform')\n",
    "ax1.legend()\n",
    "\n",
    "\n",
    "ax2.plot(res['time'], res['test_acc'], label='test_acc_uniform')\n",
    "ax2.legend()\n",
    "\n",
    "\n",
    "ax1.set_xlabel(\"Seconds\")\n",
    "ax1.set_ylabel(\"Loss\")\n",
    "\n",
    "ax2.set_xlabel(\"Seconds\")\n",
    "ax2.set_ylabel(\"Accuracy\")"
   ]
  },
  {
   "cell_type": "code",
   "execution_count": null,
   "metadata": {},
   "outputs": [],
   "source": []
  }
 ],
 "metadata": {
  "accelerator": "GPU",
  "colab": {
   "gpuType": "T4",
   "provenance": []
  },
  "kernelspec": {
   "display_name": "Python 3",
   "language": "python",
   "name": "python3"
  },
  "language_info": {
   "codemirror_mode": {
    "name": "ipython",
    "version": 3
   },
   "file_extension": ".py",
   "mimetype": "text/x-python",
   "name": "python",
   "nbconvert_exporter": "python",
   "pygments_lexer": "ipython3",
   "version": "3.8.10"
  }
 },
 "nbformat": 4,
 "nbformat_minor": 1
}
